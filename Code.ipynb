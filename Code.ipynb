{
 "cells": [
  {
   "cell_type": "markdown",
   "metadata": {},
   "source": [
    "Importing of the needed libraries"
   ]
  },
  {
   "cell_type": "code",
   "execution_count": 1,
   "metadata": {},
   "outputs": [],
   "source": [
    "import pandas as pd\n",
    "import numpy as np\n",
    "import matplotlib.pyplot as plt\n",
    "from sklearn.linear_model import LinearRegression\n",
    "from sklearn.model_selection import train_test_split\n",
    "from sklearn.metrics import r2_score, mean_squared_error\n",
    "import seaborn as sns\n",
    "%matplotlib inline\n"
   ]
  },
  {
   "cell_type": "code",
   "execution_count": 2,
   "metadata": {},
   "outputs": [
    {
     "name": "stdout",
     "output_type": "stream",
     "text": [
      "1.4.1\n"
     ]
    }
   ],
   "source": [
    "print(pd.__version__)"
   ]
  },
  {
   "cell_type": "markdown",
   "metadata": {},
   "source": [
    "Reading the Data into a Dataframe.  And Returning the first 5 Rows."
   ]
  },
  {
   "cell_type": "code",
   "execution_count": 3,
   "metadata": {},
   "outputs": [
    {
     "data": {
      "text/html": [
       "<div>\n",
       "<style scoped>\n",
       "    .dataframe tbody tr th:only-of-type {\n",
       "        vertical-align: middle;\n",
       "    }\n",
       "\n",
       "    .dataframe tbody tr th {\n",
       "        vertical-align: top;\n",
       "    }\n",
       "\n",
       "    .dataframe thead th {\n",
       "        text-align: right;\n",
       "    }\n",
       "</style>\n",
       "<table border=\"1\" class=\"dataframe\">\n",
       "  <thead>\n",
       "    <tr style=\"text-align: right;\">\n",
       "      <th></th>\n",
       "      <th>Unnamed: 0</th>\n",
       "      <th>Price</th>\n",
       "      <th>Type</th>\n",
       "      <th>Living_space</th>\n",
       "      <th>Lot</th>\n",
       "      <th>Usable_area</th>\n",
       "      <th>Free_of_Relation</th>\n",
       "      <th>Rooms</th>\n",
       "      <th>Bedrooms</th>\n",
       "      <th>Bathrooms</th>\n",
       "      <th>...</th>\n",
       "      <th>Energy_source</th>\n",
       "      <th>Energy_certificate</th>\n",
       "      <th>Energy_certificate_type</th>\n",
       "      <th>Energy_consumption</th>\n",
       "      <th>Energy_efficiency_class</th>\n",
       "      <th>State</th>\n",
       "      <th>City</th>\n",
       "      <th>Place</th>\n",
       "      <th>Garages</th>\n",
       "      <th>Garagetype</th>\n",
       "    </tr>\n",
       "  </thead>\n",
       "  <tbody>\n",
       "    <tr>\n",
       "      <th>0</th>\n",
       "      <td>0</td>\n",
       "      <td>498000.0</td>\n",
       "      <td>Multiple dwelling</td>\n",
       "      <td>106.00</td>\n",
       "      <td>229.0</td>\n",
       "      <td>NaN</td>\n",
       "      <td>01.10.2020</td>\n",
       "      <td>5.5</td>\n",
       "      <td>3.0</td>\n",
       "      <td>1.0</td>\n",
       "      <td>...</td>\n",
       "      <td>Gas</td>\n",
       "      <td>available</td>\n",
       "      <td>demand certificate</td>\n",
       "      <td>NaN</td>\n",
       "      <td>D</td>\n",
       "      <td>Baden-Württemberg</td>\n",
       "      <td>Bodenseekreis</td>\n",
       "      <td>Bermatingen</td>\n",
       "      <td>2.0</td>\n",
       "      <td>Parking lot</td>\n",
       "    </tr>\n",
       "    <tr>\n",
       "      <th>1</th>\n",
       "      <td>1</td>\n",
       "      <td>495000.0</td>\n",
       "      <td>Mid-terrace house</td>\n",
       "      <td>140.93</td>\n",
       "      <td>517.0</td>\n",
       "      <td>20.00</td>\n",
       "      <td>01.01.2021</td>\n",
       "      <td>6.0</td>\n",
       "      <td>3.0</td>\n",
       "      <td>2.0</td>\n",
       "      <td>...</td>\n",
       "      <td>NaN</td>\n",
       "      <td>not required by law</td>\n",
       "      <td>NaN</td>\n",
       "      <td>NaN</td>\n",
       "      <td>NaN</td>\n",
       "      <td>Baden-Württemberg</td>\n",
       "      <td>Konstanz (Kreis)</td>\n",
       "      <td>Engen</td>\n",
       "      <td>7.0</td>\n",
       "      <td>Parking lot</td>\n",
       "    </tr>\n",
       "    <tr>\n",
       "      <th>2</th>\n",
       "      <td>2</td>\n",
       "      <td>749000.0</td>\n",
       "      <td>Farmhouse</td>\n",
       "      <td>162.89</td>\n",
       "      <td>82.0</td>\n",
       "      <td>37.62</td>\n",
       "      <td>01.07.2020</td>\n",
       "      <td>5.0</td>\n",
       "      <td>3.0</td>\n",
       "      <td>2.0</td>\n",
       "      <td>...</td>\n",
       "      <td>Fernwärme, Bioenergie</td>\n",
       "      <td>available</td>\n",
       "      <td>demand certificate</td>\n",
       "      <td>NaN</td>\n",
       "      <td>B</td>\n",
       "      <td>Baden-Württemberg</td>\n",
       "      <td>Esslingen (Kreis)</td>\n",
       "      <td>Ostfildern</td>\n",
       "      <td>1.0</td>\n",
       "      <td>Garage</td>\n",
       "    </tr>\n",
       "    <tr>\n",
       "      <th>3</th>\n",
       "      <td>3</td>\n",
       "      <td>259000.0</td>\n",
       "      <td>Farmhouse</td>\n",
       "      <td>140.00</td>\n",
       "      <td>814.0</td>\n",
       "      <td>NaN</td>\n",
       "      <td>nach Vereinbarung</td>\n",
       "      <td>4.0</td>\n",
       "      <td>NaN</td>\n",
       "      <td>2.0</td>\n",
       "      <td>...</td>\n",
       "      <td>Strom</td>\n",
       "      <td>available</td>\n",
       "      <td>demand certificate</td>\n",
       "      <td>NaN</td>\n",
       "      <td>G</td>\n",
       "      <td>Baden-Württemberg</td>\n",
       "      <td>Waldshut (Kreis)</td>\n",
       "      <td>Bonndorf im Schwarzwald</td>\n",
       "      <td>1.0</td>\n",
       "      <td>Garage</td>\n",
       "    </tr>\n",
       "    <tr>\n",
       "      <th>4</th>\n",
       "      <td>4</td>\n",
       "      <td>469000.0</td>\n",
       "      <td>Multiple dwelling</td>\n",
       "      <td>115.00</td>\n",
       "      <td>244.0</td>\n",
       "      <td>NaN</td>\n",
       "      <td>sofort</td>\n",
       "      <td>4.5</td>\n",
       "      <td>2.0</td>\n",
       "      <td>1.0</td>\n",
       "      <td>...</td>\n",
       "      <td>Öl</td>\n",
       "      <td>available</td>\n",
       "      <td>demand certificate</td>\n",
       "      <td>NaN</td>\n",
       "      <td>F</td>\n",
       "      <td>Baden-Württemberg</td>\n",
       "      <td>Esslingen (Kreis)</td>\n",
       "      <td>Leinfelden-Echterdingen</td>\n",
       "      <td>1.0</td>\n",
       "      <td>Garage</td>\n",
       "    </tr>\n",
       "  </tbody>\n",
       "</table>\n",
       "<p>5 rows × 26 columns</p>\n",
       "</div>"
      ],
      "text/plain": [
       "   Unnamed: 0     Price               Type  Living_space    Lot  Usable_area  \\\n",
       "0           0  498000.0  Multiple dwelling        106.00  229.0          NaN   \n",
       "1           1  495000.0  Mid-terrace house        140.93  517.0        20.00   \n",
       "2           2  749000.0          Farmhouse        162.89   82.0        37.62   \n",
       "3           3  259000.0          Farmhouse        140.00  814.0          NaN   \n",
       "4           4  469000.0  Multiple dwelling        115.00  244.0          NaN   \n",
       "\n",
       "      Free_of_Relation  Rooms  Bedrooms  Bathrooms  ...  \\\n",
       "0          01.10.2020     5.5       3.0        1.0  ...   \n",
       "1          01.01.2021     6.0       3.0        2.0  ...   \n",
       "2          01.07.2020     5.0       3.0        2.0  ...   \n",
       "3   nach Vereinbarung     4.0       NaN        2.0  ...   \n",
       "4              sofort     4.5       2.0        1.0  ...   \n",
       "\n",
       "             Energy_source   Energy_certificate Energy_certificate_type  \\\n",
       "0                     Gas             available      demand certificate   \n",
       "1                      NaN  not required by law                     NaN   \n",
       "2   Fernwärme, Bioenergie             available      demand certificate   \n",
       "3                   Strom             available      demand certificate   \n",
       "4                      Öl             available      demand certificate   \n",
       "\n",
       "   Energy_consumption Energy_efficiency_class              State  \\\n",
       "0                 NaN                      D   Baden-Württemberg   \n",
       "1                 NaN                     NaN  Baden-Württemberg   \n",
       "2                 NaN                      B   Baden-Württemberg   \n",
       "3                 NaN                      G   Baden-Württemberg   \n",
       "4                 NaN                      F   Baden-Württemberg   \n",
       "\n",
       "                City                    Place Garages   Garagetype  \n",
       "0      Bodenseekreis              Bermatingen     2.0  Parking lot  \n",
       "1   Konstanz (Kreis)                    Engen     7.0  Parking lot  \n",
       "2  Esslingen (Kreis)               Ostfildern     1.0       Garage  \n",
       "3   Waldshut (Kreis)  Bonndorf im Schwarzwald     1.0       Garage  \n",
       "4  Esslingen (Kreis)  Leinfelden-Echterdingen     1.0       Garage  \n",
       "\n",
       "[5 rows x 26 columns]"
      ]
     },
     "execution_count": 3,
     "metadata": {},
     "output_type": "execute_result"
    }
   ],
   "source": [
    "df = pd.read_csv('./germany_housing_data_14.07.2020.csv')\n",
    "df.head()"
   ]
  },
  {
   "cell_type": "markdown",
   "metadata": {},
   "source": [
    "The next cells, look at the size of the dataframe, its statistics, its types and the number of missing values for each column."
   ]
  },
  {
   "cell_type": "code",
   "execution_count": 4,
   "metadata": {},
   "outputs": [
    {
     "data": {
      "text/plain": [
       "(10552, 26)"
      ]
     },
     "execution_count": 4,
     "metadata": {},
     "output_type": "execute_result"
    }
   ],
   "source": [
    "df.shape"
   ]
  },
  {
   "cell_type": "code",
   "execution_count": 5,
   "metadata": {},
   "outputs": [
    {
     "data": {
      "text/html": [
       "<div>\n",
       "<style scoped>\n",
       "    .dataframe tbody tr th:only-of-type {\n",
       "        vertical-align: middle;\n",
       "    }\n",
       "\n",
       "    .dataframe tbody tr th {\n",
       "        vertical-align: top;\n",
       "    }\n",
       "\n",
       "    .dataframe thead th {\n",
       "        text-align: right;\n",
       "    }\n",
       "</style>\n",
       "<table border=\"1\" class=\"dataframe\">\n",
       "  <thead>\n",
       "    <tr style=\"text-align: right;\">\n",
       "      <th></th>\n",
       "      <th>Unnamed: 0</th>\n",
       "      <th>Price</th>\n",
       "      <th>Living_space</th>\n",
       "      <th>Lot</th>\n",
       "      <th>Usable_area</th>\n",
       "      <th>Rooms</th>\n",
       "      <th>Bedrooms</th>\n",
       "      <th>Bathrooms</th>\n",
       "      <th>Floors</th>\n",
       "      <th>Year_built</th>\n",
       "      <th>Year_renovated</th>\n",
       "      <th>Energy_consumption</th>\n",
       "      <th>Garages</th>\n",
       "    </tr>\n",
       "  </thead>\n",
       "  <tbody>\n",
       "    <tr>\n",
       "      <th>count</th>\n",
       "      <td>10552.000000</td>\n",
       "      <td>1.055200e+04</td>\n",
       "      <td>10552.000000</td>\n",
       "      <td>10552.000000</td>\n",
       "      <td>5568.000000</td>\n",
       "      <td>10552.000000</td>\n",
       "      <td>6878.000000</td>\n",
       "      <td>8751.000000</td>\n",
       "      <td>7888.000000</td>\n",
       "      <td>9858.000000</td>\n",
       "      <td>5349.000000</td>\n",
       "      <td>2433.000000</td>\n",
       "      <td>8592.000000</td>\n",
       "    </tr>\n",
       "    <tr>\n",
       "      <th>mean</th>\n",
       "      <td>5275.500000</td>\n",
       "      <td>5.566851e+05</td>\n",
       "      <td>216.721008</td>\n",
       "      <td>1491.659004</td>\n",
       "      <td>134.300424</td>\n",
       "      <td>7.388978</td>\n",
       "      <td>4.169817</td>\n",
       "      <td>2.308993</td>\n",
       "      <td>2.283976</td>\n",
       "      <td>1958.821465</td>\n",
       "      <td>2010.706300</td>\n",
       "      <td>117.663111</td>\n",
       "      <td>2.698673</td>\n",
       "    </tr>\n",
       "    <tr>\n",
       "      <th>std</th>\n",
       "      <td>3046.244354</td>\n",
       "      <td>6.087410e+05</td>\n",
       "      <td>172.421321</td>\n",
       "      <td>8582.361675</td>\n",
       "      <td>188.814089</td>\n",
       "      <td>5.378126</td>\n",
       "      <td>2.577169</td>\n",
       "      <td>1.742330</td>\n",
       "      <td>0.821288</td>\n",
       "      <td>55.958072</td>\n",
       "      <td>10.548651</td>\n",
       "      <td>54.023207</td>\n",
       "      <td>3.195068</td>\n",
       "    </tr>\n",
       "    <tr>\n",
       "      <th>min</th>\n",
       "      <td>0.000000</td>\n",
       "      <td>0.000000e+00</td>\n",
       "      <td>0.000000</td>\n",
       "      <td>0.000000</td>\n",
       "      <td>0.000000</td>\n",
       "      <td>1.000000</td>\n",
       "      <td>0.000000</td>\n",
       "      <td>0.000000</td>\n",
       "      <td>0.000000</td>\n",
       "      <td>1300.000000</td>\n",
       "      <td>1900.000000</td>\n",
       "      <td>5.100000</td>\n",
       "      <td>1.000000</td>\n",
       "    </tr>\n",
       "    <tr>\n",
       "      <th>25%</th>\n",
       "      <td>2637.750000</td>\n",
       "      <td>2.500000e+05</td>\n",
       "      <td>130.000000</td>\n",
       "      <td>370.000000</td>\n",
       "      <td>48.000000</td>\n",
       "      <td>5.000000</td>\n",
       "      <td>3.000000</td>\n",
       "      <td>1.000000</td>\n",
       "      <td>2.000000</td>\n",
       "      <td>1935.000000</td>\n",
       "      <td>2006.000000</td>\n",
       "      <td>83.170000</td>\n",
       "      <td>1.000000</td>\n",
       "    </tr>\n",
       "    <tr>\n",
       "      <th>50%</th>\n",
       "      <td>5275.500000</td>\n",
       "      <td>4.052150e+05</td>\n",
       "      <td>176.775000</td>\n",
       "      <td>656.500000</td>\n",
       "      <td>80.000000</td>\n",
       "      <td>6.000000</td>\n",
       "      <td>4.000000</td>\n",
       "      <td>2.000000</td>\n",
       "      <td>2.000000</td>\n",
       "      <td>1971.000000</td>\n",
       "      <td>2015.000000</td>\n",
       "      <td>112.700000</td>\n",
       "      <td>2.000000</td>\n",
       "    </tr>\n",
       "    <tr>\n",
       "      <th>75%</th>\n",
       "      <td>7913.250000</td>\n",
       "      <td>6.550000e+05</td>\n",
       "      <td>250.000000</td>\n",
       "      <td>1047.000000</td>\n",
       "      <td>150.250000</td>\n",
       "      <td>8.000000</td>\n",
       "      <td>5.000000</td>\n",
       "      <td>3.000000</td>\n",
       "      <td>3.000000</td>\n",
       "      <td>1996.000000</td>\n",
       "      <td>2018.000000</td>\n",
       "      <td>146.000000</td>\n",
       "      <td>3.000000</td>\n",
       "    </tr>\n",
       "    <tr>\n",
       "      <th>max</th>\n",
       "      <td>10551.000000</td>\n",
       "      <td>1.300000e+07</td>\n",
       "      <td>5600.000000</td>\n",
       "      <td>547087.000000</td>\n",
       "      <td>4034.000000</td>\n",
       "      <td>170.000000</td>\n",
       "      <td>61.000000</td>\n",
       "      <td>44.000000</td>\n",
       "      <td>13.000000</td>\n",
       "      <td>2022.000000</td>\n",
       "      <td>2206.000000</td>\n",
       "      <td>503.940000</td>\n",
       "      <td>70.000000</td>\n",
       "    </tr>\n",
       "  </tbody>\n",
       "</table>\n",
       "</div>"
      ],
      "text/plain": [
       "         Unnamed: 0         Price  Living_space            Lot  Usable_area  \\\n",
       "count  10552.000000  1.055200e+04  10552.000000   10552.000000  5568.000000   \n",
       "mean    5275.500000  5.566851e+05    216.721008    1491.659004   134.300424   \n",
       "std     3046.244354  6.087410e+05    172.421321    8582.361675   188.814089   \n",
       "min        0.000000  0.000000e+00      0.000000       0.000000     0.000000   \n",
       "25%     2637.750000  2.500000e+05    130.000000     370.000000    48.000000   \n",
       "50%     5275.500000  4.052150e+05    176.775000     656.500000    80.000000   \n",
       "75%     7913.250000  6.550000e+05    250.000000    1047.000000   150.250000   \n",
       "max    10551.000000  1.300000e+07   5600.000000  547087.000000  4034.000000   \n",
       "\n",
       "              Rooms     Bedrooms    Bathrooms       Floors   Year_built  \\\n",
       "count  10552.000000  6878.000000  8751.000000  7888.000000  9858.000000   \n",
       "mean       7.388978     4.169817     2.308993     2.283976  1958.821465   \n",
       "std        5.378126     2.577169     1.742330     0.821288    55.958072   \n",
       "min        1.000000     0.000000     0.000000     0.000000  1300.000000   \n",
       "25%        5.000000     3.000000     1.000000     2.000000  1935.000000   \n",
       "50%        6.000000     4.000000     2.000000     2.000000  1971.000000   \n",
       "75%        8.000000     5.000000     3.000000     3.000000  1996.000000   \n",
       "max      170.000000    61.000000    44.000000    13.000000  2022.000000   \n",
       "\n",
       "       Year_renovated  Energy_consumption      Garages  \n",
       "count     5349.000000         2433.000000  8592.000000  \n",
       "mean      2010.706300          117.663111     2.698673  \n",
       "std         10.548651           54.023207     3.195068  \n",
       "min       1900.000000            5.100000     1.000000  \n",
       "25%       2006.000000           83.170000     1.000000  \n",
       "50%       2015.000000          112.700000     2.000000  \n",
       "75%       2018.000000          146.000000     3.000000  \n",
       "max       2206.000000          503.940000    70.000000  "
      ]
     },
     "execution_count": 5,
     "metadata": {},
     "output_type": "execute_result"
    }
   ],
   "source": [
    "df.describe()"
   ]
  },
  {
   "cell_type": "code",
   "execution_count": 6,
   "metadata": {},
   "outputs": [
    {
     "name": "stdout",
     "output_type": "stream",
     "text": [
      "<class 'pandas.core.frame.DataFrame'>\n",
      "RangeIndex: 10552 entries, 0 to 10551\n",
      "Data columns (total 26 columns):\n",
      " #   Column                   Non-Null Count  Dtype  \n",
      "---  ------                   --------------  -----  \n",
      " 0   Unnamed: 0               10552 non-null  int64  \n",
      " 1   Price                    10552 non-null  float64\n",
      " 2   Type                     10150 non-null  object \n",
      " 3   Living_space             10552 non-null  float64\n",
      " 4   Lot                      10552 non-null  float64\n",
      " 5   Usable_area              5568 non-null   float64\n",
      " 6   Free_of_Relation         6983 non-null   object \n",
      " 7   Rooms                    10552 non-null  float64\n",
      " 8   Bedrooms                 6878 non-null   float64\n",
      " 9   Bathrooms                8751 non-null   float64\n",
      " 10  Floors                   7888 non-null   float64\n",
      " 11  Year_built               9858 non-null   float64\n",
      " 12  Furnishing_quality       7826 non-null   object \n",
      " 13  Year_renovated           5349 non-null   float64\n",
      " 14  Condition                10229 non-null  object \n",
      " 15  Heating                  9968 non-null   object \n",
      " 16  Energy_source            9325 non-null   object \n",
      " 17  Energy_certificate       9797 non-null   object \n",
      " 18  Energy_certificate_type  7026 non-null   object \n",
      " 19  Energy_consumption       2433 non-null   float64\n",
      " 20  Energy_efficiency_class  5733 non-null   object \n",
      " 21  State                    10551 non-null  object \n",
      " 22  City                     10551 non-null  object \n",
      " 23  Place                    10262 non-null  object \n",
      " 24  Garages                  8592 non-null   float64\n",
      " 25  Garagetype               8592 non-null   object \n",
      "dtypes: float64(12), int64(1), object(13)\n",
      "memory usage: 2.1+ MB\n"
     ]
    }
   ],
   "source": [
    "df.info()"
   ]
  },
  {
   "cell_type": "markdown",
   "metadata": {},
   "source": [
    "What is the proportion of missing values for each column? And the absolut missing values?"
   ]
  },
  {
   "cell_type": "code",
   "execution_count": 7,
   "metadata": {},
   "outputs": [
    {
     "data": {
      "text/plain": [
       "Unnamed: 0                 0.000000\n",
       "Price                      0.000000\n",
       "Living_space               0.000000\n",
       "Lot                        0.000000\n",
       "Rooms                      0.000000\n",
       "City                       0.000095\n",
       "State                      0.000095\n",
       "Place                      0.027483\n",
       "Condition                  0.030610\n",
       "Type                       0.038097\n",
       "Heating                    0.055345\n",
       "Year_built                 0.065770\n",
       "Energy_certificate         0.071550\n",
       "Energy_source              0.116281\n",
       "Bathrooms                  0.170679\n",
       "Garagetype                 0.185747\n",
       "Garages                    0.185747\n",
       "Floors                     0.252464\n",
       "Furnishing_quality         0.258340\n",
       "Energy_certificate_type    0.334155\n",
       "Free_of_Relation           0.338230\n",
       "Bedrooms                   0.348180\n",
       "Energy_efficiency_class    0.456691\n",
       "Usable_area                0.472328\n",
       "Year_renovated             0.493082\n",
       "Energy_consumption         0.769428\n",
       "dtype: float64"
      ]
     },
     "execution_count": 7,
     "metadata": {},
     "output_type": "execute_result"
    }
   ],
   "source": [
    "df.isna().mean().sort_values()"
   ]
  },
  {
   "cell_type": "code",
   "execution_count": 8,
   "metadata": {},
   "outputs": [
    {
     "data": {
      "text/plain": [
       "Unnamed: 0                    0\n",
       "Price                         0\n",
       "Living_space                  0\n",
       "Lot                           0\n",
       "Rooms                         0\n",
       "City                          1\n",
       "State                         1\n",
       "Place                       290\n",
       "Condition                   323\n",
       "Type                        402\n",
       "Heating                     584\n",
       "Year_built                  694\n",
       "Energy_certificate          755\n",
       "Energy_source              1227\n",
       "Bathrooms                  1801\n",
       "Garagetype                 1960\n",
       "Garages                    1960\n",
       "Floors                     2664\n",
       "Furnishing_quality         2726\n",
       "Energy_certificate_type    3526\n",
       "Free_of_Relation           3569\n",
       "Bedrooms                   3674\n",
       "Energy_efficiency_class    4819\n",
       "Usable_area                4984\n",
       "Year_renovated             5203\n",
       "Energy_consumption         8119\n",
       "dtype: int64"
      ]
     },
     "execution_count": 8,
     "metadata": {},
     "output_type": "execute_result"
    }
   ],
   "source": [
    "df.isna().sum().sort_values()"
   ]
  },
  {
   "cell_type": "markdown",
   "metadata": {},
   "source": [
    "Since there is only one row missing the city & state and there is no other information to infer these two columns I simply drop this one:"
   ]
  },
  {
   "cell_type": "code",
   "execution_count": 9,
   "metadata": {},
   "outputs": [],
   "source": [
    "df.dropna(subset='City',inplace=True)"
   ]
  },
  {
   "cell_type": "markdown",
   "metadata": {},
   "source": [
    "In the next cell I drop the Unnamed Index column. Furthermore the Energy_consumption and efficiency class is also dropped missing over 40% of the values.\n",
    "Year renovated also misses more than 40% but I assume that the house was just not renovated. Also the usable area is missing more than 40%, but I assume those houses do not have a usable area.\n",
    "Additionally all rows where all entries are missing are dropped (actually those are not existing in the dataset)"
   ]
  },
  {
   "cell_type": "code",
   "execution_count": 10,
   "metadata": {},
   "outputs": [
    {
     "data": {
      "text/html": [
       "<div>\n",
       "<style scoped>\n",
       "    .dataframe tbody tr th:only-of-type {\n",
       "        vertical-align: middle;\n",
       "    }\n",
       "\n",
       "    .dataframe tbody tr th {\n",
       "        vertical-align: top;\n",
       "    }\n",
       "\n",
       "    .dataframe thead th {\n",
       "        text-align: right;\n",
       "    }\n",
       "</style>\n",
       "<table border=\"1\" class=\"dataframe\">\n",
       "  <thead>\n",
       "    <tr style=\"text-align: right;\">\n",
       "      <th></th>\n",
       "      <th>Price</th>\n",
       "      <th>Type</th>\n",
       "      <th>Living_space</th>\n",
       "      <th>Lot</th>\n",
       "      <th>Usable_area</th>\n",
       "      <th>Free_of_Relation</th>\n",
       "      <th>Rooms</th>\n",
       "      <th>Bedrooms</th>\n",
       "      <th>Bathrooms</th>\n",
       "      <th>Floors</th>\n",
       "      <th>...</th>\n",
       "      <th>Condition</th>\n",
       "      <th>Heating</th>\n",
       "      <th>Energy_source</th>\n",
       "      <th>Energy_certificate</th>\n",
       "      <th>Energy_certificate_type</th>\n",
       "      <th>State</th>\n",
       "      <th>City</th>\n",
       "      <th>Place</th>\n",
       "      <th>Garages</th>\n",
       "      <th>Garagetype</th>\n",
       "    </tr>\n",
       "  </thead>\n",
       "  <tbody>\n",
       "    <tr>\n",
       "      <th>0</th>\n",
       "      <td>498000.0</td>\n",
       "      <td>Multiple dwelling</td>\n",
       "      <td>106.00</td>\n",
       "      <td>229.0</td>\n",
       "      <td>NaN</td>\n",
       "      <td>01.10.2020</td>\n",
       "      <td>5.5</td>\n",
       "      <td>3.0</td>\n",
       "      <td>1.0</td>\n",
       "      <td>2.0</td>\n",
       "      <td>...</td>\n",
       "      <td>modernized</td>\n",
       "      <td>central heating</td>\n",
       "      <td>Gas</td>\n",
       "      <td>available</td>\n",
       "      <td>demand certificate</td>\n",
       "      <td>Baden-Württemberg</td>\n",
       "      <td>Bodenseekreis</td>\n",
       "      <td>Bermatingen</td>\n",
       "      <td>2.0</td>\n",
       "      <td>Parking lot</td>\n",
       "    </tr>\n",
       "    <tr>\n",
       "      <th>1</th>\n",
       "      <td>495000.0</td>\n",
       "      <td>Mid-terrace house</td>\n",
       "      <td>140.93</td>\n",
       "      <td>517.0</td>\n",
       "      <td>20.00</td>\n",
       "      <td>01.01.2021</td>\n",
       "      <td>6.0</td>\n",
       "      <td>3.0</td>\n",
       "      <td>2.0</td>\n",
       "      <td>NaN</td>\n",
       "      <td>...</td>\n",
       "      <td>modernized</td>\n",
       "      <td>stove heating</td>\n",
       "      <td>NaN</td>\n",
       "      <td>not required by law</td>\n",
       "      <td>NaN</td>\n",
       "      <td>Baden-Württemberg</td>\n",
       "      <td>Konstanz (Kreis)</td>\n",
       "      <td>Engen</td>\n",
       "      <td>7.0</td>\n",
       "      <td>Parking lot</td>\n",
       "    </tr>\n",
       "    <tr>\n",
       "      <th>2</th>\n",
       "      <td>749000.0</td>\n",
       "      <td>Farmhouse</td>\n",
       "      <td>162.89</td>\n",
       "      <td>82.0</td>\n",
       "      <td>37.62</td>\n",
       "      <td>01.07.2020</td>\n",
       "      <td>5.0</td>\n",
       "      <td>3.0</td>\n",
       "      <td>2.0</td>\n",
       "      <td>4.0</td>\n",
       "      <td>...</td>\n",
       "      <td>dilapidated</td>\n",
       "      <td>stove heating</td>\n",
       "      <td>Fernwärme, Bioenergie</td>\n",
       "      <td>available</td>\n",
       "      <td>demand certificate</td>\n",
       "      <td>Baden-Württemberg</td>\n",
       "      <td>Esslingen (Kreis)</td>\n",
       "      <td>Ostfildern</td>\n",
       "      <td>1.0</td>\n",
       "      <td>Garage</td>\n",
       "    </tr>\n",
       "    <tr>\n",
       "      <th>3</th>\n",
       "      <td>259000.0</td>\n",
       "      <td>Farmhouse</td>\n",
       "      <td>140.00</td>\n",
       "      <td>814.0</td>\n",
       "      <td>NaN</td>\n",
       "      <td>nach Vereinbarung</td>\n",
       "      <td>4.0</td>\n",
       "      <td>NaN</td>\n",
       "      <td>2.0</td>\n",
       "      <td>2.0</td>\n",
       "      <td>...</td>\n",
       "      <td>fixer-upper</td>\n",
       "      <td>central heating</td>\n",
       "      <td>Strom</td>\n",
       "      <td>available</td>\n",
       "      <td>demand certificate</td>\n",
       "      <td>Baden-Württemberg</td>\n",
       "      <td>Waldshut (Kreis)</td>\n",
       "      <td>Bonndorf im Schwarzwald</td>\n",
       "      <td>1.0</td>\n",
       "      <td>Garage</td>\n",
       "    </tr>\n",
       "    <tr>\n",
       "      <th>4</th>\n",
       "      <td>469000.0</td>\n",
       "      <td>Multiple dwelling</td>\n",
       "      <td>115.00</td>\n",
       "      <td>244.0</td>\n",
       "      <td>NaN</td>\n",
       "      <td>sofort</td>\n",
       "      <td>4.5</td>\n",
       "      <td>2.0</td>\n",
       "      <td>1.0</td>\n",
       "      <td>NaN</td>\n",
       "      <td>...</td>\n",
       "      <td>refurbished</td>\n",
       "      <td>central heating</td>\n",
       "      <td>Öl</td>\n",
       "      <td>available</td>\n",
       "      <td>demand certificate</td>\n",
       "      <td>Baden-Württemberg</td>\n",
       "      <td>Esslingen (Kreis)</td>\n",
       "      <td>Leinfelden-Echterdingen</td>\n",
       "      <td>1.0</td>\n",
       "      <td>Garage</td>\n",
       "    </tr>\n",
       "    <tr>\n",
       "      <th>...</th>\n",
       "      <td>...</td>\n",
       "      <td>...</td>\n",
       "      <td>...</td>\n",
       "      <td>...</td>\n",
       "      <td>...</td>\n",
       "      <td>...</td>\n",
       "      <td>...</td>\n",
       "      <td>...</td>\n",
       "      <td>...</td>\n",
       "      <td>...</td>\n",
       "      <td>...</td>\n",
       "      <td>...</td>\n",
       "      <td>...</td>\n",
       "      <td>...</td>\n",
       "      <td>...</td>\n",
       "      <td>...</td>\n",
       "      <td>...</td>\n",
       "      <td>...</td>\n",
       "      <td>...</td>\n",
       "      <td>...</td>\n",
       "      <td>...</td>\n",
       "    </tr>\n",
       "    <tr>\n",
       "      <th>10547</th>\n",
       "      <td>1495000.0</td>\n",
       "      <td>Special property</td>\n",
       "      <td>167.00</td>\n",
       "      <td>683.0</td>\n",
       "      <td>63.00</td>\n",
       "      <td>nach Vereinbarung</td>\n",
       "      <td>6.5</td>\n",
       "      <td>4.0</td>\n",
       "      <td>3.0</td>\n",
       "      <td>NaN</td>\n",
       "      <td>...</td>\n",
       "      <td>first occupation after refurbishment</td>\n",
       "      <td>stove heating</td>\n",
       "      <td>Fernwärme</td>\n",
       "      <td>available</td>\n",
       "      <td>consumption certificate</td>\n",
       "      <td>Bayern</td>\n",
       "      <td>München</td>\n",
       "      <td>Perlach</td>\n",
       "      <td>1.0</td>\n",
       "      <td>Garage</td>\n",
       "    </tr>\n",
       "    <tr>\n",
       "      <th>10548</th>\n",
       "      <td>449000.0</td>\n",
       "      <td>Mid-terrace house</td>\n",
       "      <td>222.00</td>\n",
       "      <td>4000.0</td>\n",
       "      <td>NaN</td>\n",
       "      <td>NaN</td>\n",
       "      <td>6.0</td>\n",
       "      <td>5.0</td>\n",
       "      <td>3.0</td>\n",
       "      <td>1.0</td>\n",
       "      <td>...</td>\n",
       "      <td>dilapidated</td>\n",
       "      <td>oil heating</td>\n",
       "      <td>Erdwärme</td>\n",
       "      <td>available</td>\n",
       "      <td>demand certificate</td>\n",
       "      <td>Sachsen-Anhalt</td>\n",
       "      <td>Altmarkkreis Salzwedel</td>\n",
       "      <td>Henningen</td>\n",
       "      <td>4.0</td>\n",
       "      <td>Parking lot</td>\n",
       "    </tr>\n",
       "    <tr>\n",
       "      <th>10549</th>\n",
       "      <td>678000.0</td>\n",
       "      <td>Mid-terrace house</td>\n",
       "      <td>142.00</td>\n",
       "      <td>377.0</td>\n",
       "      <td>NaN</td>\n",
       "      <td>31.07.2021</td>\n",
       "      <td>4.0</td>\n",
       "      <td>3.0</td>\n",
       "      <td>NaN</td>\n",
       "      <td>NaN</td>\n",
       "      <td>...</td>\n",
       "      <td>dilapidated</td>\n",
       "      <td>central heating</td>\n",
       "      <td>NaN</td>\n",
       "      <td>NaN</td>\n",
       "      <td>NaN</td>\n",
       "      <td>Bayern</td>\n",
       "      <td>Augsburg (Kreis)</td>\n",
       "      <td>Untermeitingen</td>\n",
       "      <td>2.0</td>\n",
       "      <td>Garage</td>\n",
       "    </tr>\n",
       "    <tr>\n",
       "      <th>10550</th>\n",
       "      <td>419900.0</td>\n",
       "      <td>Mid-terrace house</td>\n",
       "      <td>120.83</td>\n",
       "      <td>501.0</td>\n",
       "      <td>NaN</td>\n",
       "      <td>sofort</td>\n",
       "      <td>5.0</td>\n",
       "      <td>NaN</td>\n",
       "      <td>1.0</td>\n",
       "      <td>2.0</td>\n",
       "      <td>...</td>\n",
       "      <td>NaN</td>\n",
       "      <td>stove heating</td>\n",
       "      <td>NaN</td>\n",
       "      <td>available</td>\n",
       "      <td>demand certificate</td>\n",
       "      <td>Sachsen-Anhalt</td>\n",
       "      <td>Börde (Kreis)</td>\n",
       "      <td>Wolmirstedt</td>\n",
       "      <td>1.0</td>\n",
       "      <td>Garage</td>\n",
       "    </tr>\n",
       "    <tr>\n",
       "      <th>10551</th>\n",
       "      <td>699000.0</td>\n",
       "      <td>Multiple dwelling</td>\n",
       "      <td>145.00</td>\n",
       "      <td>357.0</td>\n",
       "      <td>NaN</td>\n",
       "      <td>NaN</td>\n",
       "      <td>5.5</td>\n",
       "      <td>4.0</td>\n",
       "      <td>1.0</td>\n",
       "      <td>3.0</td>\n",
       "      <td>...</td>\n",
       "      <td>dilapidated</td>\n",
       "      <td>oil heating</td>\n",
       "      <td>Solar, Gas</td>\n",
       "      <td>available</td>\n",
       "      <td>demand certificate</td>\n",
       "      <td>Bayern</td>\n",
       "      <td>Augsburg (Kreis)</td>\n",
       "      <td>Diedorf</td>\n",
       "      <td>2.0</td>\n",
       "      <td>Garage</td>\n",
       "    </tr>\n",
       "  </tbody>\n",
       "</table>\n",
       "<p>10551 rows × 23 columns</p>\n",
       "</div>"
      ],
      "text/plain": [
       "           Price               Type  Living_space     Lot  Usable_area  \\\n",
       "0       498000.0  Multiple dwelling        106.00   229.0          NaN   \n",
       "1       495000.0  Mid-terrace house        140.93   517.0        20.00   \n",
       "2       749000.0          Farmhouse        162.89    82.0        37.62   \n",
       "3       259000.0          Farmhouse        140.00   814.0          NaN   \n",
       "4       469000.0  Multiple dwelling        115.00   244.0          NaN   \n",
       "...          ...                ...           ...     ...          ...   \n",
       "10547  1495000.0   Special property        167.00   683.0        63.00   \n",
       "10548   449000.0  Mid-terrace house        222.00  4000.0          NaN   \n",
       "10549   678000.0  Mid-terrace house        142.00   377.0          NaN   \n",
       "10550   419900.0  Mid-terrace house        120.83   501.0          NaN   \n",
       "10551   699000.0  Multiple dwelling        145.00   357.0          NaN   \n",
       "\n",
       "          Free_of_Relation  Rooms  Bedrooms  Bathrooms  Floors  ...  \\\n",
       "0              01.10.2020     5.5       3.0        1.0     2.0  ...   \n",
       "1              01.01.2021     6.0       3.0        2.0     NaN  ...   \n",
       "2              01.07.2020     5.0       3.0        2.0     4.0  ...   \n",
       "3       nach Vereinbarung     4.0       NaN        2.0     2.0  ...   \n",
       "4                  sofort     4.5       2.0        1.0     NaN  ...   \n",
       "...                    ...    ...       ...        ...     ...  ...   \n",
       "10547   nach Vereinbarung     6.5       4.0        3.0     NaN  ...   \n",
       "10548                  NaN    6.0       5.0        3.0     1.0  ...   \n",
       "10549          31.07.2021     4.0       3.0        NaN     NaN  ...   \n",
       "10550              sofort     5.0       NaN        1.0     2.0  ...   \n",
       "10551                  NaN    5.5       4.0        1.0     3.0  ...   \n",
       "\n",
       "                                  Condition          Heating  \\\n",
       "0                                modernized  central heating   \n",
       "1                                modernized    stove heating   \n",
       "2                               dilapidated    stove heating   \n",
       "3                               fixer-upper  central heating   \n",
       "4                               refurbished  central heating   \n",
       "...                                     ...              ...   \n",
       "10547  first occupation after refurbishment    stove heating   \n",
       "10548                           dilapidated      oil heating   \n",
       "10549                           dilapidated  central heating   \n",
       "10550                                   NaN    stove heating   \n",
       "10551                           dilapidated      oil heating   \n",
       "\n",
       "                 Energy_source   Energy_certificate  Energy_certificate_type  \\\n",
       "0                         Gas             available       demand certificate   \n",
       "1                          NaN  not required by law                      NaN   \n",
       "2       Fernwärme, Bioenergie             available       demand certificate   \n",
       "3                       Strom             available       demand certificate   \n",
       "4                          Öl             available       demand certificate   \n",
       "...                        ...                  ...                      ...   \n",
       "10547               Fernwärme             available  consumption certificate   \n",
       "10548                Erdwärme             available       demand certificate   \n",
       "10549                      NaN                  NaN                      NaN   \n",
       "10550                      NaN            available       demand certificate   \n",
       "10551              Solar, Gas             available       demand certificate   \n",
       "\n",
       "                   State                    City                    Place  \\\n",
       "0      Baden-Württemberg           Bodenseekreis              Bermatingen   \n",
       "1      Baden-Württemberg        Konstanz (Kreis)                    Engen   \n",
       "2      Baden-Württemberg       Esslingen (Kreis)               Ostfildern   \n",
       "3      Baden-Württemberg        Waldshut (Kreis)  Bonndorf im Schwarzwald   \n",
       "4      Baden-Württemberg       Esslingen (Kreis)  Leinfelden-Echterdingen   \n",
       "...                  ...                     ...                      ...   \n",
       "10547             Bayern                 München                  Perlach   \n",
       "10548     Sachsen-Anhalt  Altmarkkreis Salzwedel                Henningen   \n",
       "10549             Bayern        Augsburg (Kreis)           Untermeitingen   \n",
       "10550     Sachsen-Anhalt           Börde (Kreis)              Wolmirstedt   \n",
       "10551             Bayern        Augsburg (Kreis)                  Diedorf   \n",
       "\n",
       "      Garages   Garagetype  \n",
       "0         2.0  Parking lot  \n",
       "1         7.0  Parking lot  \n",
       "2         1.0       Garage  \n",
       "3         1.0       Garage  \n",
       "4         1.0       Garage  \n",
       "...       ...          ...  \n",
       "10547     1.0       Garage  \n",
       "10548     4.0  Parking lot  \n",
       "10549     2.0       Garage  \n",
       "10550     1.0       Garage  \n",
       "10551     2.0       Garage  \n",
       "\n",
       "[10551 rows x 23 columns]"
      ]
     },
     "execution_count": 10,
     "metadata": {},
     "output_type": "execute_result"
    }
   ],
   "source": [
    "df.drop(['Unnamed: 0','Energy_consumption',\n",
    "       'Energy_efficiency_class'],axis=1,inplace=True)\n",
    "df.dropna(axis=0, how='all')"
   ]
  },
  {
   "cell_type": "markdown",
   "metadata": {},
   "source": [
    "Here I define two lambda functions which can be used to fill missing columns with the mean, or for categorical variables with the mode."
   ]
  },
  {
   "cell_type": "code",
   "execution_count": 11,
   "metadata": {},
   "outputs": [],
   "source": [
    "fill_mean = lambda col: col.fillna(col.mean())\n",
    "fill_mode = lambda col: col.fillna(col.mode()[0])"
   ]
  },
  {
   "cell_type": "markdown",
   "metadata": {},
   "source": [
    "# Q1: What is the most common type of house?\n",
    "To answer this question we simply can count each of its occurances. There are several missing values, since I know that this field is a drop down, people must probably not have found a house type close to its. Therefore I fill all the NANs with \"Others\" and do not imply anything here. Looking at the value counts one can see that the Mid-terrace house ist the most common, and a castle is the least common one."
   ]
  },
  {
   "cell_type": "code",
   "execution_count": 12,
   "metadata": {},
   "outputs": [
    {
     "data": {
      "text/plain": [
       "Mid-terrace house       4323\n",
       "Duplex                  2127\n",
       "Single dwelling         1169\n",
       "Farmhouse                573\n",
       "Villa                    396\n",
       "Multiple dwelling        379\n",
       "Residential property     367\n",
       "Special property         358\n",
       "Bungalow                 249\n",
       "Corner house             201\n",
       "Castle                     7\n",
       "Name: Type, dtype: int64"
      ]
     },
     "execution_count": 12,
     "metadata": {},
     "output_type": "execute_result"
    }
   ],
   "source": [
    "df.Type.value_counts()"
   ]
  },
  {
   "cell_type": "code",
   "execution_count": 13,
   "metadata": {},
   "outputs": [
    {
     "data": {
      "text/plain": [
       "Mid-terrace house       4323\n",
       "Duplex                  2127\n",
       "Single dwelling         1169\n",
       "Farmhouse                573\n",
       "Others                   402\n",
       "Villa                    396\n",
       "Multiple dwelling        379\n",
       "Residential property     367\n",
       "Special property         358\n",
       "Bungalow                 249\n",
       "Corner house             201\n",
       "Castle                     7\n",
       "Name: Type, dtype: int64"
      ]
     },
     "execution_count": 13,
     "metadata": {},
     "output_type": "execute_result"
    }
   ],
   "source": [
    "df.Type.fillna('Others',inplace=True)\n",
    "df.Type.value_counts()"
   ]
  },
  {
   "cell_type": "markdown",
   "metadata": {},
   "source": [
    "Plotting the value counts as a horizontal bar chart with title."
   ]
  },
  {
   "cell_type": "code",
   "execution_count": 14,
   "metadata": {},
   "outputs": [
    {
     "data": {
      "image/png": "[encoded data removed]",
      "text/plain": [
       "<Figure size 432x288 with 1 Axes>"
      ]
     },
     "metadata": {
      "needs_background": "light"
     },
     "output_type": "display_data"
    }
   ],
   "source": [
    "df.Type.value_counts().plot(kind='barh',align='center',title='Most common type of properties in Germany');"
   ]
  },
  {
   "cell_type": "markdown",
   "metadata": {},
   "source": [
    "# Q2: What is the most expensive federal state in Germany?\n",
    "\n",
    "For this question, I look at the mean house prices of the different federal state and at the price per square meter living area. Since this information is not in the data set I calculate it at first by diving the price by living space.\n",
    "Since prices and living space do not have any missing values, I do not need to clean any data. For the sake of convenience and display I put the information in a separate display."
   ]
  },
  {
   "cell_type": "code",
   "execution_count": 15,
   "metadata": {},
   "outputs": [],
   "source": [
    "df['Price/qm']=df['Price']/df['Living_space']"
   ]
  },
  {
   "cell_type": "code",
   "execution_count": 16,
   "metadata": {},
   "outputs": [],
   "source": [
    "pd.options.display.float_format = '{:,.0f}'.format\n",
    "df_price = df.groupby(['State']).Price.mean().sort_values(ascending=False).to_frame()\n",
    "df_price['Price/qm']=df.groupby(['State'])['Price/qm'].mean()\n",
    "df.drop(axis=1,labels='Price/qm',inplace=True)"
   ]
  },
  {
   "cell_type": "code",
   "execution_count": 17,
   "metadata": {},
   "outputs": [
    {
     "data": {
      "text/html": [
       "<div>\n",
       "<style scoped>\n",
       "    .dataframe tbody tr th:only-of-type {\n",
       "        vertical-align: middle;\n",
       "    }\n",
       "\n",
       "    .dataframe tbody tr th {\n",
       "        vertical-align: top;\n",
       "    }\n",
       "\n",
       "    .dataframe thead th {\n",
       "        text-align: right;\n",
       "    }\n",
       "</style>\n",
       "<table border=\"1\" class=\"dataframe\">\n",
       "  <thead>\n",
       "    <tr style=\"text-align: right;\">\n",
       "      <th></th>\n",
       "      <th>Price</th>\n",
       "      <th>Price/qm</th>\n",
       "    </tr>\n",
       "    <tr>\n",
       "      <th>State</th>\n",
       "      <th></th>\n",
       "      <th></th>\n",
       "    </tr>\n",
       "  </thead>\n",
       "  <tbody>\n",
       "    <tr>\n",
       "      <th>Berlin</th>\n",
       "      <td>1,160,439</td>\n",
       "      <td>5,215</td>\n",
       "    </tr>\n",
       "    <tr>\n",
       "      <th>Hamburg</th>\n",
       "      <td>835,454</td>\n",
       "      <td>5,076</td>\n",
       "    </tr>\n",
       "    <tr>\n",
       "      <th>Bayern</th>\n",
       "      <td>820,002</td>\n",
       "      <td>3,881</td>\n",
       "    </tr>\n",
       "    <tr>\n",
       "      <th>Baden-Württemberg</th>\n",
       "      <td>708,397</td>\n",
       "      <td>3,493</td>\n",
       "    </tr>\n",
       "    <tr>\n",
       "      <th>Hessen</th>\n",
       "      <td>667,460</td>\n",
       "      <td>2,994</td>\n",
       "    </tr>\n",
       "    <tr>\n",
       "      <th>Brandenburg</th>\n",
       "      <td>564,342</td>\n",
       "      <td>2,886</td>\n",
       "    </tr>\n",
       "    <tr>\n",
       "      <th>Nordrhein-Westfalen</th>\n",
       "      <td>558,275</td>\n",
       "      <td>2,607</td>\n",
       "    </tr>\n",
       "    <tr>\n",
       "      <th>Schleswig-Holstein</th>\n",
       "      <td>541,217</td>\n",
       "      <td>3,692</td>\n",
       "    </tr>\n",
       "    <tr>\n",
       "      <th>Bremen</th>\n",
       "      <td>429,788</td>\n",
       "      <td>2,855</td>\n",
       "    </tr>\n",
       "    <tr>\n",
       "      <th>Rheinland-Pfalz</th>\n",
       "      <td>411,067</td>\n",
       "      <td>2,984</td>\n",
       "    </tr>\n",
       "    <tr>\n",
       "      <th>Mecklenburg-Vorpommern</th>\n",
       "      <td>410,558</td>\n",
       "      <td>1,993</td>\n",
       "    </tr>\n",
       "    <tr>\n",
       "      <th>Niedersachsen</th>\n",
       "      <td>376,872</td>\n",
       "      <td>2,039</td>\n",
       "    </tr>\n",
       "    <tr>\n",
       "      <th>Sachsen</th>\n",
       "      <td>323,617</td>\n",
       "      <td>1,476</td>\n",
       "    </tr>\n",
       "    <tr>\n",
       "      <th>Thüringen</th>\n",
       "      <td>263,255</td>\n",
       "      <td>1,275</td>\n",
       "    </tr>\n",
       "    <tr>\n",
       "      <th>Saarland</th>\n",
       "      <td>257,224</td>\n",
       "      <td>1,328</td>\n",
       "    </tr>\n",
       "    <tr>\n",
       "      <th>Sachsen-Anhalt</th>\n",
       "      <td>204,837</td>\n",
       "      <td>1,121</td>\n",
       "    </tr>\n",
       "  </tbody>\n",
       "</table>\n",
       "</div>"
      ],
      "text/plain": [
       "                           Price  Price/qm\n",
       "State                                     \n",
       "Berlin                 1,160,439     5,215\n",
       "Hamburg                  835,454     5,076\n",
       "Bayern                   820,002     3,881\n",
       "Baden-Württemberg        708,397     3,493\n",
       "Hessen                   667,460     2,994\n",
       "Brandenburg              564,342     2,886\n",
       "Nordrhein-Westfalen      558,275     2,607\n",
       "Schleswig-Holstein       541,217     3,692\n",
       "Bremen                   429,788     2,855\n",
       "Rheinland-Pfalz          411,067     2,984\n",
       "Mecklenburg-Vorpommern   410,558     1,993\n",
       "Niedersachsen            376,872     2,039\n",
       "Sachsen                  323,617     1,476\n",
       "Thüringen                263,255     1,275\n",
       "Saarland                 257,224     1,328\n",
       "Sachsen-Anhalt           204,837     1,121"
      ]
     },
     "execution_count": 17,
     "metadata": {},
     "output_type": "execute_result"
    }
   ],
   "source": [
    "df_price"
   ]
  },
  {
   "cell_type": "markdown",
   "metadata": {},
   "source": [
    "# Q3 Where in Germany are the biggest lots sold?\n",
    "As one expect in the smaller city states the los are way smaller than in the \"normal\" States."
   ]
  },
  {
   "cell_type": "code",
   "execution_count": 18,
   "metadata": {},
   "outputs": [
    {
     "data": {
      "text/html": [
       "<div>\n",
       "<style scoped>\n",
       "    .dataframe tbody tr th:only-of-type {\n",
       "        vertical-align: middle;\n",
       "    }\n",
       "\n",
       "    .dataframe tbody tr th {\n",
       "        vertical-align: top;\n",
       "    }\n",
       "\n",
       "    .dataframe thead th {\n",
       "        text-align: right;\n",
       "    }\n",
       "</style>\n",
       "<table border=\"1\" class=\"dataframe\">\n",
       "  <thead>\n",
       "    <tr style=\"text-align: right;\">\n",
       "      <th></th>\n",
       "      <th>Lot</th>\n",
       "    </tr>\n",
       "    <tr>\n",
       "      <th>State</th>\n",
       "      <th></th>\n",
       "    </tr>\n",
       "  </thead>\n",
       "  <tbody>\n",
       "    <tr>\n",
       "      <th>Mecklenburg-Vorpommern</th>\n",
       "      <td>3,855</td>\n",
       "    </tr>\n",
       "    <tr>\n",
       "      <th>Schleswig-Holstein</th>\n",
       "      <td>2,118</td>\n",
       "    </tr>\n",
       "    <tr>\n",
       "      <th>Brandenburg</th>\n",
       "      <td>1,977</td>\n",
       "    </tr>\n",
       "    <tr>\n",
       "      <th>Bayern</th>\n",
       "      <td>1,692</td>\n",
       "    </tr>\n",
       "    <tr>\n",
       "      <th>Sachsen</th>\n",
       "      <td>1,653</td>\n",
       "    </tr>\n",
       "    <tr>\n",
       "      <th>Niedersachsen</th>\n",
       "      <td>1,529</td>\n",
       "    </tr>\n",
       "    <tr>\n",
       "      <th>Nordrhein-Westfalen</th>\n",
       "      <td>1,321</td>\n",
       "    </tr>\n",
       "    <tr>\n",
       "      <th>Thüringen</th>\n",
       "      <td>1,310</td>\n",
       "    </tr>\n",
       "    <tr>\n",
       "      <th>Baden-Württemberg</th>\n",
       "      <td>1,278</td>\n",
       "    </tr>\n",
       "    <tr>\n",
       "      <th>Sachsen-Anhalt</th>\n",
       "      <td>1,189</td>\n",
       "    </tr>\n",
       "    <tr>\n",
       "      <th>Rheinland-Pfalz</th>\n",
       "      <td>1,179</td>\n",
       "    </tr>\n",
       "    <tr>\n",
       "      <th>Hessen</th>\n",
       "      <td>995</td>\n",
       "    </tr>\n",
       "    <tr>\n",
       "      <th>Saarland</th>\n",
       "      <td>849</td>\n",
       "    </tr>\n",
       "    <tr>\n",
       "      <th>Berlin</th>\n",
       "      <td>808</td>\n",
       "    </tr>\n",
       "    <tr>\n",
       "      <th>Hamburg</th>\n",
       "      <td>502</td>\n",
       "    </tr>\n",
       "    <tr>\n",
       "      <th>Bremen</th>\n",
       "      <td>481</td>\n",
       "    </tr>\n",
       "  </tbody>\n",
       "</table>\n",
       "</div>"
      ],
      "text/plain": [
       "                         Lot\n",
       "State                       \n",
       "Mecklenburg-Vorpommern 3,855\n",
       "Schleswig-Holstein     2,118\n",
       "Brandenburg            1,977\n",
       "Bayern                 1,692\n",
       "Sachsen                1,653\n",
       "Niedersachsen          1,529\n",
       "Nordrhein-Westfalen    1,321\n",
       "Thüringen              1,310\n",
       "Baden-Württemberg      1,278\n",
       "Sachsen-Anhalt         1,189\n",
       "Rheinland-Pfalz        1,179\n",
       "Hessen                   995\n",
       "Saarland                 849\n",
       "Berlin                   808\n",
       "Hamburg                  502\n",
       "Bremen                   481"
      ]
     },
     "execution_count": 18,
     "metadata": {},
     "output_type": "execute_result"
    }
   ],
   "source": [
    "df.groupby('State').Lot.mean().sort_values(ascending=False).to_frame()"
   ]
  },
  {
   "cell_type": "code",
   "execution_count": 19,
   "metadata": {},
   "outputs": [
    {
     "data": {
      "text/html": [
       "<div>\n",
       "<style scoped>\n",
       "    .dataframe tbody tr th:only-of-type {\n",
       "        vertical-align: middle;\n",
       "    }\n",
       "\n",
       "    .dataframe tbody tr th {\n",
       "        vertical-align: top;\n",
       "    }\n",
       "\n",
       "    .dataframe thead th {\n",
       "        text-align: right;\n",
       "    }\n",
       "</style>\n",
       "<table border=\"1\" class=\"dataframe\">\n",
       "  <thead>\n",
       "    <tr style=\"text-align: right;\">\n",
       "      <th></th>\n",
       "      <th>Living_space</th>\n",
       "    </tr>\n",
       "    <tr>\n",
       "      <th>State</th>\n",
       "      <th></th>\n",
       "    </tr>\n",
       "  </thead>\n",
       "  <tbody>\n",
       "    <tr>\n",
       "      <th>Thüringen</th>\n",
       "      <td>251</td>\n",
       "    </tr>\n",
       "    <tr>\n",
       "      <th>Mecklenburg-Vorpommern</th>\n",
       "      <td>243</td>\n",
       "    </tr>\n",
       "    <tr>\n",
       "      <th>Sachsen</th>\n",
       "      <td>241</td>\n",
       "    </tr>\n",
       "    <tr>\n",
       "      <th>Nordrhein-Westfalen</th>\n",
       "      <td>229</td>\n",
       "    </tr>\n",
       "    <tr>\n",
       "      <th>Hessen</th>\n",
       "      <td>226</td>\n",
       "    </tr>\n",
       "    <tr>\n",
       "      <th>Baden-Württemberg</th>\n",
       "      <td>224</td>\n",
       "    </tr>\n",
       "    <tr>\n",
       "      <th>Bayern</th>\n",
       "      <td>222</td>\n",
       "    </tr>\n",
       "    <tr>\n",
       "      <th>Berlin</th>\n",
       "      <td>221</td>\n",
       "    </tr>\n",
       "    <tr>\n",
       "      <th>Rheinland-Pfalz</th>\n",
       "      <td>213</td>\n",
       "    </tr>\n",
       "    <tr>\n",
       "      <th>Niedersachsen</th>\n",
       "      <td>197</td>\n",
       "    </tr>\n",
       "    <tr>\n",
       "      <th>Saarland</th>\n",
       "      <td>196</td>\n",
       "    </tr>\n",
       "    <tr>\n",
       "      <th>Brandenburg</th>\n",
       "      <td>196</td>\n",
       "    </tr>\n",
       "    <tr>\n",
       "      <th>Sachsen-Anhalt</th>\n",
       "      <td>191</td>\n",
       "    </tr>\n",
       "    <tr>\n",
       "      <th>Schleswig-Holstein</th>\n",
       "      <td>188</td>\n",
       "    </tr>\n",
       "    <tr>\n",
       "      <th>Hamburg</th>\n",
       "      <td>160</td>\n",
       "    </tr>\n",
       "    <tr>\n",
       "      <th>Bremen</th>\n",
       "      <td>159</td>\n",
       "    </tr>\n",
       "  </tbody>\n",
       "</table>\n",
       "</div>"
      ],
      "text/plain": [
       "                        Living_space\n",
       "State                               \n",
       "Thüringen                        251\n",
       "Mecklenburg-Vorpommern           243\n",
       "Sachsen                          241\n",
       "Nordrhein-Westfalen              229\n",
       "Hessen                           226\n",
       "Baden-Württemberg                224\n",
       "Bayern                           222\n",
       "Berlin                           221\n",
       "Rheinland-Pfalz                  213\n",
       "Niedersachsen                    197\n",
       "Saarland                         196\n",
       "Brandenburg                      196\n",
       "Sachsen-Anhalt                   191\n",
       "Schleswig-Holstein               188\n",
       "Hamburg                          160\n",
       "Bremen                           159"
      ]
     },
     "execution_count": 19,
     "metadata": {},
     "output_type": "execute_result"
    }
   ],
   "source": [
    "df.groupby('State').Living_space.mean().sort_values(ascending=False).to_frame()"
   ]
  },
  {
   "cell_type": "markdown",
   "metadata": {},
   "source": [
    "# Q4 Can I predict the real estate prices?\n",
    "Short answer: No not so good. \n",
    "\n",
    "Long answer in the next couple of steps.\n",
    "First missing values need to be handled."
   ]
  },
  {
   "cell_type": "markdown",
   "metadata": {},
   "source": [
    "### Handling Missing Values\n",
    "There are several missing values which must be handled first before using a moedel."
   ]
  },
  {
   "cell_type": "code",
   "execution_count": 20,
   "metadata": {},
   "outputs": [
    {
     "data": {
      "text/plain": [
       "Price                         0\n",
       "Type                          0\n",
       "Living_space                  0\n",
       "Lot                           0\n",
       "City                          0\n",
       "Rooms                         0\n",
       "State                         0\n",
       "Place                       289\n",
       "Condition                   323\n",
       "Heating                     584\n",
       "Year_built                  694\n",
       "Energy_certificate          755\n",
       "Energy_source              1226\n",
       "Bathrooms                  1801\n",
       "Garagetype                 1959\n",
       "Garages                    1959\n",
       "Floors                     2663\n",
       "Furnishing_quality         2725\n",
       "Energy_certificate_type    3525\n",
       "Free_of_Relation           3569\n",
       "Bedrooms                   3674\n",
       "Usable_area                4983\n",
       "Year_renovated             5202\n",
       "dtype: int64"
      ]
     },
     "execution_count": 20,
     "metadata": {},
     "output_type": "execute_result"
    }
   ],
   "source": [
    "df.isna().sum().sort_values()"
   ]
  },
  {
   "cell_type": "markdown",
   "metadata": {},
   "source": [
    "Since place and city is quite a specific geographical attribute this one is dropped for the sake of convenience. Also free of relation is quite difficult to impute."
   ]
  },
  {
   "cell_type": "code",
   "execution_count": 21,
   "metadata": {},
   "outputs": [],
   "source": [
    "df.drop(axis=1,labels=['Place','City','Free_of_Relation']  ,inplace=True)"
   ]
  },
  {
   "cell_type": "markdown",
   "metadata": {},
   "source": [
    "Looking at all categorical variables by nature (string)."
   ]
  },
  {
   "cell_type": "code",
   "execution_count": 22,
   "metadata": {},
   "outputs": [
    {
     "data": {
      "text/plain": [
       "Index(['Type', 'Furnishing_quality', 'Condition', 'Heating', 'Energy_source',\n",
       "       'Energy_certificate', 'Energy_certificate_type', 'State', 'Garagetype'],\n",
       "      dtype='object')"
      ]
     },
     "execution_count": 22,
     "metadata": {},
     "output_type": "execute_result"
    }
   ],
   "source": [
    "df.select_dtypes(include=['object']).columns"
   ]
  },
  {
   "cell_type": "markdown",
   "metadata": {},
   "source": [
    "For the furnishing quality I set the mode, which is normal. This is probably a good guess in terms of rating. Most people are quite modes but on the other hand they do not put something worse. So normal seems to be quite a good fit."
   ]
  },
  {
   "cell_type": "code",
   "execution_count": 23,
   "metadata": {},
   "outputs": [
    {
     "data": {
      "text/plain": [
       "normal     3734\n",
       "basic      2690\n",
       "refined     914\n",
       "luxus       488\n",
       "Name: Furnishing_quality, dtype: int64"
      ]
     },
     "execution_count": 23,
     "metadata": {},
     "output_type": "execute_result"
    }
   ],
   "source": [
    "df.Furnishing_quality.value_counts()"
   ]
  },
  {
   "cell_type": "code",
   "execution_count": 24,
   "metadata": {},
   "outputs": [],
   "source": [
    "df.Furnishing_quality.fillna(df.Furnishing_quality.mode()[0], inplace=True)"
   ]
  },
  {
   "cell_type": "markdown",
   "metadata": {},
   "source": [
    "The Energy source was sometimes a list of several energy sources, assuming that the first one was the main energy source. I split the list and only used the first one as energy source. The missing ones are filled with the most common one e.g. Gas in this case."
   ]
  },
  {
   "cell_type": "code",
   "execution_count": 25,
   "metadata": {},
   "outputs": [],
   "source": [
    "df.Energy_source=df.Energy_source.str.split(pat=',',expand= True)[0].str.strip()\n",
    "df.Energy_source.fillna(df.Energy_source.mode()[0], inplace=True)\n"
   ]
  },
  {
   "cell_type": "markdown",
   "metadata": {},
   "source": [
    "The missing Heating is also filled with the mode."
   ]
  },
  {
   "cell_type": "code",
   "execution_count": 26,
   "metadata": {},
   "outputs": [],
   "source": [
    "df.Heating.fillna(df.Heating.mode()[0], inplace=True)\n"
   ]
  },
  {
   "cell_type": "markdown",
   "metadata": {},
   "source": [
    "The energy certificate is a requirement by law for most of the properties. So for the missing values I assume its just available.\n",
    "Also the most common one is the demand consumption certificate thats why I fill all the missing certificate types with the demand certificate"
   ]
  },
  {
   "cell_type": "code",
   "execution_count": 27,
   "metadata": {},
   "outputs": [
    {
     "data": {
      "text/plain": [
       "available                   7742\n",
       "not required by law         1588\n",
       "available for inspection    1221\n",
       "Name: Energy_certificate, dtype: int64"
      ]
     },
     "execution_count": 27,
     "metadata": {},
     "output_type": "execute_result"
    }
   ],
   "source": [
    "df.Energy_certificate.fillna('available',inplace=True)\n",
    "df.Energy_certificate.value_counts()"
   ]
  },
  {
   "cell_type": "code",
   "execution_count": 28,
   "metadata": {},
   "outputs": [
    {
     "data": {
      "text/plain": [
       "demand certificate         7668\n",
       "consumption certificate    2883\n",
       "Name: Energy_certificate_type, dtype: int64"
      ]
     },
     "execution_count": 28,
     "metadata": {},
     "output_type": "execute_result"
    }
   ],
   "source": [
    "df.Energy_certificate_type.fillna('demand certificate',inplace=True)\n",
    "df.Energy_certificate_type.value_counts()"
   ]
  },
  {
   "cell_type": "markdown",
   "metadata": {},
   "source": [
    "The condition is not specified. This is probably a feature which one sees best by looking at the pictures. Since we do not know anything abouth the condition we just fill it with not specified."
   ]
  },
  {
   "cell_type": "code",
   "execution_count": 29,
   "metadata": {},
   "outputs": [],
   "source": [
    "df.Condition.fillna('not specified',inplace=True)"
   ]
  },
  {
   "cell_type": "markdown",
   "metadata": {},
   "source": [
    "Since Garages and Garage Type are a important feature for buyers this is normally listed if there is a garage, therefore I assume if nothing is listed that there is none and fill all the values with zero, respectively None.\n",
    "The same goes for the usable area and the Year_renovated."
   ]
  },
  {
   "cell_type": "code",
   "execution_count": 30,
   "metadata": {},
   "outputs": [],
   "source": [
    "df.Garages.fillna(0,inplace=True)\n",
    "df.Garagetype.fillna(\"None\",inplace=True)\n",
    "df.Usable_area.fillna(0,inplace=True)\n",
    "df.Year_renovated.fillna(0,inplace=True)"
   ]
  },
  {
   "cell_type": "markdown",
   "metadata": {},
   "source": [
    "For the remaining missing numeric variables i just fill in the mean value. Since everyhouse needs to have a bedroom or a bathroom, or a year in which it was built."
   ]
  },
  {
   "cell_type": "code",
   "execution_count": 31,
   "metadata": {},
   "outputs": [],
   "source": [
    "missing_num =df.select_dtypes(include=['float','int']).columns[df.select_dtypes(include=['float','int']).isna().sum()>0]\n",
    "for i in missing_num:\n",
    "    df[i].fillna(df[i].mean(),inplace=True)"
   ]
  },
  {
   "cell_type": "markdown",
   "metadata": {},
   "source": [
    "Now there are now missing values left and one can generate the dummy variables."
   ]
  },
  {
   "cell_type": "code",
   "execution_count": 32,
   "metadata": {},
   "outputs": [
    {
     "data": {
      "text/plain": [
       "Price                      0\n",
       "State                      0\n",
       "Energy_certificate_type    0\n",
       "Energy_certificate         0\n",
       "Energy_source              0\n",
       "Heating                    0\n",
       "Condition                  0\n",
       "Year_renovated             0\n",
       "Furnishing_quality         0\n",
       "Year_built                 0\n",
       "Floors                     0\n",
       "Bathrooms                  0\n",
       "Bedrooms                   0\n",
       "Rooms                      0\n",
       "Usable_area                0\n",
       "Lot                        0\n",
       "Living_space               0\n",
       "Type                       0\n",
       "Garages                    0\n",
       "Garagetype                 0\n",
       "dtype: int64"
      ]
     },
     "execution_count": 32,
     "metadata": {},
     "output_type": "execute_result"
    }
   ],
   "source": [
    "df.isna().sum().sort_values()"
   ]
  },
  {
   "cell_type": "markdown",
   "metadata": {},
   "source": [
    "### Setting up the linear model\n",
    "    \n",
    "\n",
    "Setting up the response variable and the explanatory variable. Then dividing it into a training set and a test set."
   ]
  },
  {
   "cell_type": "code",
   "execution_count": 33,
   "metadata": {},
   "outputs": [],
   "source": [
    "y = df['Price']\n",
    "X_all = df.drop('Price',axis=1)\n",
    "cat_vars=X_all.select_dtypes(include=['object']).columns\n",
    "for cat in cat_vars:\n",
    "    X_all=pd.concat([X_all.drop(cat,axis=1),pd.get_dummies(X_all[cat], prefix=cat, prefix_sep='_', drop_first=True)], axis=1)\n",
    "X_all_train, X_all_test, y_train, y_test = train_test_split(X_all,y,test_size=0.3, random_state = 10)"
   ]
  },
  {
   "cell_type": "code",
   "execution_count": 34,
   "metadata": {},
   "outputs": [
    {
     "name": "stderr",
     "output_type": "stream",
     "text": [
      "C:\\Users\\Q377613\\Anaconda3\\envs\\dashboard\\lib\\site-packages\\sklearn\\linear_model\\_base.py:141: FutureWarning: 'normalize' was deprecated in version 1.0 and will be removed in 1.2.\n",
      "If you wish to scale the data, use Pipeline with a StandardScaler in a preprocessing stage. To reproduce the previous behavior:\n",
      "\n",
      "from sklearn.pipeline import make_pipeline\n",
      "\n",
      "model = make_pipeline(StandardScaler(with_mean=False), LinearRegression())\n",
      "\n",
      "If you wish to pass a sample_weight parameter, you need to pass it as a fit parameter to each step of the pipeline as follows:\n",
      "\n",
      "kwargs = {s[0] + '__sample_weight': sample_weight for s in model.steps}\n",
      "model.fit(X, y, **kwargs)\n",
      "\n",
      "\n",
      "  warnings.warn(\n"
     ]
    },
    {
     "data": {
      "text/plain": [
       "LinearRegression(normalize=True)"
      ]
     },
     "execution_count": 34,
     "metadata": {},
     "output_type": "execute_result"
    }
   ],
   "source": [
    "lm_model = LinearRegression(normalize=True)\n",
    "lm_model.fit(X_all_train,y_train)"
   ]
  },
  {
   "cell_type": "code",
   "execution_count": 35,
   "metadata": {},
   "outputs": [],
   "source": [
    "y_test_preds = lm_model.predict(X_all_test)\n",
    "y_train_preds = lm_model.predict(X_all_train)\n",
    "    \n",
    "test_score = r2_score(y_test,y_test_preds)\n",
    "train_score = r2_score(y_train,y_train_preds)"
   ]
  },
  {
   "cell_type": "code",
   "execution_count": 36,
   "metadata": {},
   "outputs": [
    {
     "data": {
      "text/plain": [
       "-1.211774481722312e+25"
      ]
     },
     "execution_count": 36,
     "metadata": {},
     "output_type": "execute_result"
    }
   ],
   "source": [
    "test_score"
   ]
  },
  {
   "cell_type": "code",
   "execution_count": 37,
   "metadata": {},
   "outputs": [
    {
     "data": {
      "text/plain": [
       "0.45418107570606625"
      ]
     },
     "execution_count": 37,
     "metadata": {},
     "output_type": "execute_result"
    }
   ],
   "source": [
    "train_score"
   ]
  },
  {
   "cell_type": "code",
   "execution_count": 38,
   "metadata": {},
   "outputs": [
    {
     "data": {
      "text/plain": [
       "449541.1319813938"
      ]
     },
     "execution_count": 38,
     "metadata": {},
     "output_type": "execute_result"
    }
   ],
   "source": [
    "mean_squared_error(y_train,y_train_preds,squared=False)"
   ]
  },
  {
   "cell_type": "markdown",
   "metadata": {},
   "source": [
    "The result is not very good. Probably due to overfitting. I will make a selection of features which are very like to be useful in prediction of the prices"
   ]
  },
  {
   "cell_type": "code",
   "execution_count": 39,
   "metadata": {},
   "outputs": [],
   "source": [
    "X_reduced = df[['Living_space','Rooms','Lot','Type','Bedrooms','Usable_area','Bathrooms','Condition','Year_built','Year_renovated','State','Garages']]\n",
    "cat_vars=X_reduced.select_dtypes(include=['object']).columns\n",
    "for cat in cat_vars:\n",
    "    X_reduced=pd.concat([X_reduced.drop(cat,axis=1),pd.get_dummies(X_reduced[cat], prefix=cat, prefix_sep='_', drop_first=True)], axis=1)\n",
    "X_reduced_train,  X_reduced_test, y_train, y_test = train_test_split( X_reduced,y,test_size=0.3, random_state = 10)"
   ]
  },
  {
   "cell_type": "code",
   "execution_count": 40,
   "metadata": {},
   "outputs": [
    {
     "name": "stderr",
     "output_type": "stream",
     "text": [
      "C:\\Users\\Q377613\\Anaconda3\\envs\\dashboard\\lib\\site-packages\\sklearn\\linear_model\\_base.py:141: FutureWarning: 'normalize' was deprecated in version 1.0 and will be removed in 1.2.\n",
      "If you wish to scale the data, use Pipeline with a StandardScaler in a preprocessing stage. To reproduce the previous behavior:\n",
      "\n",
      "from sklearn.pipeline import make_pipeline\n",
      "\n",
      "model = make_pipeline(StandardScaler(with_mean=False), LinearRegression())\n",
      "\n",
      "If you wish to pass a sample_weight parameter, you need to pass it as a fit parameter to each step of the pipeline as follows:\n",
      "\n",
      "kwargs = {s[0] + '__sample_weight': sample_weight for s in model.steps}\n",
      "model.fit(X, y, **kwargs)\n",
      "\n",
      "\n",
      "  warnings.warn(\n"
     ]
    },
    {
     "data": {
      "text/plain": [
       "LinearRegression(normalize=True)"
      ]
     },
     "execution_count": 40,
     "metadata": {},
     "output_type": "execute_result"
    }
   ],
   "source": [
    "lm_model_red = LinearRegression(normalize=True)\n",
    "lm_model_red.fit(X_reduced_train,y_train)"
   ]
  },
  {
   "cell_type": "code",
   "execution_count": 41,
   "metadata": {},
   "outputs": [],
   "source": [
    "y_test_preds_red = lm_model_red.predict(X_reduced_test)\n",
    "y_train_preds_red = lm_model_red.predict(X_reduced_train)\n",
    "    \n",
    "test_score_red = r2_score(y_test,y_test_preds_red)\n",
    "train_score_red = r2_score(y_train,y_train_preds_red)"
   ]
  },
  {
   "cell_type": "code",
   "execution_count": 42,
   "metadata": {},
   "outputs": [
    {
     "data": {
      "text/plain": [
       "0.3632875370175145"
      ]
     },
     "execution_count": 42,
     "metadata": {},
     "output_type": "execute_result"
    }
   ],
   "source": [
    "test_score_red"
   ]
  },
  {
   "cell_type": "code",
   "execution_count": 43,
   "metadata": {},
   "outputs": [
    {
     "data": {
      "text/plain": [
       "0.40377585402324045"
      ]
     },
     "execution_count": 43,
     "metadata": {},
     "output_type": "execute_result"
    }
   ],
   "source": [
    "train_score_red"
   ]
  },
  {
   "cell_type": "code",
   "execution_count": 44,
   "metadata": {},
   "outputs": [
    {
     "data": {
      "text/plain": [
       "469839.9269726411"
      ]
     },
     "execution_count": 44,
     "metadata": {},
     "output_type": "execute_result"
    }
   ],
   "source": [
    "mean_squared_error(y_train,y_train_preds_red,squared=False)"
   ]
  },
  {
   "cell_type": "markdown",
   "metadata": {},
   "source": [
    "This result is even worse regarding the mean squared error\n"
   ]
  }
 ],
 "metadata": {
  "interpreter": {
   "hash": "97a5c4ef2fd42f2ecf44ef58704ca03f4536649b745766af943ac55cdd659381"
  },
  "kernelspec": {
   "display_name": "Python 3.8.8 ('base')",
   "language": "python",
   "name": "python3"
  },
  "language_info": {
   "codemirror_mode": {
    "name": "ipython",
    "version": 3
   },
   "file_extension": ".py",
   "mimetype": "text/x-python",
   "name": "python",
   "nbconvert_exporter": "python",
   "pygments_lexer": "ipython3",
   "version": "3.9.11"
  },
  "orig_nbformat": 4
 },
 "nbformat": 4,
 "nbformat_minor": 2
}
